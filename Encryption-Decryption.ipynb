{
 "cells": [
  {
   "cell_type": "code",
   "execution_count": 1,
   "id": "64d2a223",
   "metadata": {},
   "outputs": [],
   "source": [
    "def is_even(number):\n",
    "    return number % 2 == 0\n",
    "\n",
    "def get_even_letters(message):\n",
    "    even_letters = []\n",
    "    for counter in range(0, len(message)):\n",
    "        if is_even(counter):\n",
    "            even_letters.append(message[counter])\n",
    "    return even_letters\n",
    "\n",
    "def get_odd_letters(message):\n",
    "    odd_letters = []\n",
    "    for counter in range(0, len(message)):\n",
    "        if not is_even(counter):\n",
    "            odd_letters.append(message[counter])\n",
    "    return odd_letters"
   ]
  },
  {
   "cell_type": "code",
   "execution_count": 2,
   "id": "8be8f40d",
   "metadata": {},
   "outputs": [],
   "source": [
    "def swap_letters(message):\n",
    "    letter_list = []\n",
    "    if not is_even(len(message)):\n",
    "        message = message + 'x'\n",
    "    even_letters = get_even_letters(message)\n",
    "    odd_letters = get_odd_letters(message)\n",
    "    for counter in range(0, int(len(message)/2)):\n",
    "        letter_list.append(odd_letters[counter])\n",
    "        letter_list.append(even_letters[counter])\n",
    "    new_message = ''.join(letter_list)\n",
    "    return new_message"
   ]
  },
  {
   "cell_type": "code",
   "execution_count": 4,
   "id": "2a46aace",
   "metadata": {},
   "outputs": [
    {
     "name": "stderr",
     "output_type": "stream",
     "text": [
      "2022-11-27 11:43:17.365 \n",
      "  \u001b[33m\u001b[1mWarning:\u001b[0m to view this Streamlit app on a browser, run it with the following\n",
      "  command:\n",
      "\n",
      "    streamlit run C:\\Users\\adisr\\AppData\\Local\\Programs\\Python\\Python310\\lib\\site-packages\\ipykernel_launcher.py [ARGUMENTS]\n"
     ]
    }
   ],
   "source": [
    "import streamlit as st\n",
    "st.title(\"End-to-End Encryption\")\n",
    "user = st.text_input(\"Enter a Message\")\n",
    "st.write(swap_letters(user))"
   ]
  },
  {
   "cell_type": "code",
   "execution_count": null,
   "id": "817cc461",
   "metadata": {},
   "outputs": [],
   "source": []
  }
 ],
 "metadata": {
  "kernelspec": {
   "display_name": "Python 3 (ipykernel)",
   "language": "python",
   "name": "python3"
  },
  "language_info": {
   "codemirror_mode": {
    "name": "ipython",
    "version": 3
   },
   "file_extension": ".py",
   "mimetype": "text/x-python",
   "name": "python",
   "nbconvert_exporter": "python",
   "pygments_lexer": "ipython3",
   "version": "3.10.6"
  }
 },
 "nbformat": 4,
 "nbformat_minor": 5
}
